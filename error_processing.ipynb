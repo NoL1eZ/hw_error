{
 "cells": [
  {
   "cell_type": "code",
   "execution_count": 1,
   "id": "9b622b4f-fc7c-4ddf-9f72-3a0b5aa96b22",
   "metadata": {},
   "outputs": [
    {
     "name": "stdout",
     "output_type": "stream",
     "text": [
      "2002-10-02 00:00:00\n",
      "2013-10-11 00:00:00\n",
      "1977-08-18 00:00:00\n"
     ]
    }
   ],
   "source": [
    "from datetime import datetime\n",
    "\n",
    "moscow_times_date = \"Wednesday, October 2, 2002\"\n",
    "moscow_times_format = \"%A, %B %d, %Y\"\n",
    "moscow_times_datetime = datetime.strptime(moscow_times_date, moscow_times_format)\n",
    "print(moscow_times_datetime)\n",
    "\n",
    "guardian_date = \"Friday, 11.10.13\"\n",
    "guardian_format = \"%A, %d.%m.%y\"\n",
    "guardian_datetime = datetime.strptime(guardian_date, guardian_format)\n",
    "print(guardian_datetime)\n",
    "\n",
    "daily_news_date = \"Thursday, 18 August 1977\"\n",
    "daily_news_format = \"%A, %d %B %Y\"\n",
    "daily_news_datetime = datetime.strptime(daily_news_date, daily_news_format)\n",
    "print(daily_news_datetime)"
   ]
  },
  {
   "cell_type": "code",
   "execution_count": 2,
   "id": "a2e16383-5013-42d8-8d82-1b7b45fe3264",
   "metadata": {},
   "outputs": [
    {
     "name": "stdout",
     "output_type": "stream",
     "text": [
      "[True, False, False]\n"
     ]
    }
   ],
   "source": [
    "from datetime import datetime\n",
    "\n",
    "def check_date_stream(date_stream):\n",
    "    valid_dates = []\n",
    "    for date_string in date_stream:\n",
    "        try:\n",
    "            datetime.strptime(date_string, \"%Y-%m-%d\")\n",
    "            valid_dates.append(True)\n",
    "        except ValueError:\n",
    "            valid_dates.append(False)\n",
    "    return valid_dates\n",
    "\n",
    "stream = ['2018-04-02', '2018-02-29', '2018-19-02']\n",
    "validity = check_date_stream(stream)\n",
    "print(validity)"
   ]
  },
  {
   "cell_type": "code",
   "execution_count": 3,
   "id": "21db16e9-4726-4325-b85f-f1e604b62066",
   "metadata": {},
   "outputs": [
    {
     "name": "stdout",
     "output_type": "stream",
     "text": [
      "['2023-01-01', '2023-01-02', '2023-01-03', '2023-01-04', '2023-01-05']\n"
     ]
    }
   ],
   "source": [
    "from datetime import datetime, timedelta\n",
    "\n",
    "def date_range(start_date, end_date):\n",
    "    try:\n",
    "        start = datetime.strptime(start_date, \"%Y-%m-%d\")\n",
    "        end = datetime.strptime(end_date, \"%Y-%m-%d\")\n",
    "        if start > end:\n",
    "            return []\n",
    "        \n",
    "        date_list = []\n",
    "        current_date = start\n",
    "        while current_date <= end:\n",
    "            date_list.append(current_date.strftime(\"%Y-%m-%d\"))\n",
    "            current_date += timedelta(days=1)\n",
    "        \n",
    "        return date_list\n",
    "    except ValueError:\n",
    "        return []\n",
    "\n"
   ]
  },
  {
   "cell_type": "code",
   "execution_count": null,
   "id": "3ff88881-d039-4588-ade7-47a00644a829",
   "metadata": {},
   "outputs": [],
   "source": []
  }
 ],
 "metadata": {
  "kernelspec": {
   "display_name": "Python 3 (ipykernel)",
   "language": "python",
   "name": "python3"
  },
  "language_info": {
   "codemirror_mode": {
    "name": "ipython",
    "version": 3
   },
   "file_extension": ".py",
   "mimetype": "text/x-python",
   "name": "python",
   "nbconvert_exporter": "python",
   "pygments_lexer": "ipython3",
   "version": "3.8.9"
  }
 },
 "nbformat": 4,
 "nbformat_minor": 5
}
